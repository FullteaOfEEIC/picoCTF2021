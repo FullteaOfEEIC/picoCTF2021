{
 "cells": [
  {
   "cell_type": "code",
   "execution_count": 1,
   "id": "naughty-dependence",
   "metadata": {},
   "outputs": [],
   "source": [
    "import requests"
   ]
  },
  {
   "cell_type": "code",
   "execution_count": 2,
   "id": "removed-college",
   "metadata": {},
   "outputs": [],
   "source": [
    "url = \"http://mercury.picoctf.net:53554/index.php?\""
   ]
  },
  {
   "cell_type": "code",
   "execution_count": 3,
   "id": "starting-sampling",
   "metadata": {},
   "outputs": [],
   "source": [
    "page = requests.head(url)"
   ]
  },
  {
   "cell_type": "code",
   "execution_count": 4,
   "id": "palestinian-sherman",
   "metadata": {},
   "outputs": [
    {
     "data": {
      "text/plain": [
       "{'flag': 'picoCTF{r3j3ct_th3_du4l1ty_2e5ba39f}', 'Content-type': 'text/html; charset=UTF-8'}"
      ]
     },
     "execution_count": 4,
     "metadata": {},
     "output_type": "execute_result"
    }
   ],
   "source": [
    "page.headers"
   ]
  },
  {
   "cell_type": "code",
   "execution_count": null,
   "id": "molecular-artwork",
   "metadata": {},
   "outputs": [],
   "source": []
  }
 ],
 "metadata": {
  "kernelspec": {
   "display_name": "Python 3",
   "language": "python",
   "name": "python3"
  },
  "language_info": {
   "codemirror_mode": {
    "name": "ipython",
    "version": 3
   },
   "file_extension": ".py",
   "mimetype": "text/x-python",
   "name": "python",
   "nbconvert_exporter": "python",
   "pygments_lexer": "ipython3",
   "version": "3.8.1"
  }
 },
 "nbformat": 4,
 "nbformat_minor": 5
}
