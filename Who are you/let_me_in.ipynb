{
 "cells": [
  {
   "cell_type": "code",
   "execution_count": 1,
   "id": "floating-contact",
   "metadata": {},
   "outputs": [],
   "source": [
    "import requests\n",
    "from IPython.display import HTML"
   ]
  },
  {
   "cell_type": "code",
   "execution_count": 2,
   "id": "bright-ranch",
   "metadata": {},
   "outputs": [],
   "source": [
    "url = \"http://mercury.picoctf.net:39114/\""
   ]
  },
  {
   "cell_type": "code",
   "execution_count": 3,
   "id": "after-subdivision",
   "metadata": {},
   "outputs": [
    {
     "data": {
      "text/html": [
       "<!DOCTYPE html>\n",
       "<html lang=\"en\">\n",
       "\n",
       "<head>\n",
       "    <title>Who are you?</title>\n",
       "\n",
       "\n",
       "    <link href=\"https://maxcdn.bootstrapcdn.com/bootstrap/3.2.0/css/bootstrap.min.css\" rel=\"stylesheet\">\n",
       "\n",
       "    <link href=\"https://getbootstrap.com/docs/3.3/examples/jumbotron-narrow/jumbotron-narrow.css\" rel=\"stylesheet\">\n",
       "\n",
       "    <script src=\"https://ajax.googleapis.com/ajax/libs/jquery/3.3.1/jquery.min.js\"></script>\n",
       "\n",
       "    <script src=\"https://maxcdn.bootstrapcdn.com/bootstrap/3.3.7/js/bootstrap.min.js\"></script>\n",
       "\n",
       "\n",
       "</head>\n",
       "\n",
       "<body>\n",
       "\n",
       "    <div class=\"container\">\n",
       "      <div class=\"jumbotron\">\n",
       "        <p class=\"lead\"></p>\n",
       "\t\t<div class=\"row\">\n",
       "\t\t\t<div class=\"col-xs-12 col-sm-12 col-md-12\">\n",
       "\t\t\t\t<h3 style=\"color:red\">Only people who use the official PicoBrowser are allowed on this site!</h3>\n",
       "\t\t\t</div>\n",
       "\t\t</div>\n",
       "\t\t<br/>\n",
       "\t\t\n",
       "\t\t\t<img src=\"/static/who_r_u.gif\"></img>\n",
       "\t\t\n",
       "\t</div>\n",
       "    <footer class=\"footer\">\n",
       "        <p>&copy; PicoCTF</p>\n",
       "    </footer>\n",
       "\n",
       "</div>\n",
       "<script>\n",
       "$(document).ready(function(){\n",
       "    $(\".close\").click(function(){\n",
       "        $(\"myAlert\").alert(\"close\");\n",
       "    });\n",
       "});\n",
       "</script>\n",
       "</body>\n",
       "\n",
       "</html>"
      ],
      "text/plain": [
       "<IPython.core.display.HTML object>"
      ]
     },
     "execution_count": 3,
     "metadata": {},
     "output_type": "execute_result"
    }
   ],
   "source": [
    "page = requests.get(url)\n",
    "HTML(page.text)"
   ]
  },
  {
   "cell_type": "code",
   "execution_count": 4,
   "id": "alpha-christianity",
   "metadata": {},
   "outputs": [
    {
     "data": {
      "text/html": [
       "<!DOCTYPE html>\n",
       "<html lang=\"en\">\n",
       "\n",
       "<head>\n",
       "    <title>Who are you?</title>\n",
       "\n",
       "\n",
       "    <link href=\"https://maxcdn.bootstrapcdn.com/bootstrap/3.2.0/css/bootstrap.min.css\" rel=\"stylesheet\">\n",
       "\n",
       "    <link href=\"https://getbootstrap.com/docs/3.3/examples/jumbotron-narrow/jumbotron-narrow.css\" rel=\"stylesheet\">\n",
       "\n",
       "    <script src=\"https://ajax.googleapis.com/ajax/libs/jquery/3.3.1/jquery.min.js\"></script>\n",
       "\n",
       "    <script src=\"https://maxcdn.bootstrapcdn.com/bootstrap/3.3.7/js/bootstrap.min.js\"></script>\n",
       "\n",
       "\n",
       "</head>\n",
       "\n",
       "<body>\n",
       "\n",
       "    <div class=\"container\">\n",
       "      <div class=\"jumbotron\">\n",
       "        <p class=\"lead\"></p>\n",
       "\t\t<div class=\"row\">\n",
       "\t\t\t<div class=\"col-xs-12 col-sm-12 col-md-12\">\n",
       "\t\t\t\t<h3 style=\"color:red\">I don&#39;t trust users visiting from another site.</h3>\n",
       "\t\t\t</div>\n",
       "\t\t</div>\n",
       "\t\t<br/>\n",
       "\t\t\n",
       "\t\t\t<img src=\"/static/who_r_u.gif\"></img>\n",
       "\t\t\n",
       "\t</div>\n",
       "    <footer class=\"footer\">\n",
       "        <p>&copy; PicoCTF</p>\n",
       "    </footer>\n",
       "\n",
       "</div>\n",
       "<script>\n",
       "$(document).ready(function(){\n",
       "    $(\".close\").click(function(){\n",
       "        $(\"myAlert\").alert(\"close\");\n",
       "    });\n",
       "});\n",
       "</script>\n",
       "</body>\n",
       "\n",
       "</html>"
      ],
      "text/plain": [
       "<IPython.core.display.HTML object>"
      ]
     },
     "execution_count": 4,
     "metadata": {},
     "output_type": "execute_result"
    }
   ],
   "source": [
    "headers = {\n",
    "    \"User-Agent\":\"picobrowser\"\n",
    "}\n",
    "page = requests.get(url, headers=headers)\n",
    "HTML(page.text)"
   ]
  },
  {
   "cell_type": "code",
   "execution_count": 5,
   "id": "human-thermal",
   "metadata": {},
   "outputs": [
    {
     "data": {
      "text/html": [
       "<!DOCTYPE html>\n",
       "<html lang=\"en\">\n",
       "\n",
       "<head>\n",
       "    <title>Who are you?</title>\n",
       "\n",
       "\n",
       "    <link href=\"https://maxcdn.bootstrapcdn.com/bootstrap/3.2.0/css/bootstrap.min.css\" rel=\"stylesheet\">\n",
       "\n",
       "    <link href=\"https://getbootstrap.com/docs/3.3/examples/jumbotron-narrow/jumbotron-narrow.css\" rel=\"stylesheet\">\n",
       "\n",
       "    <script src=\"https://ajax.googleapis.com/ajax/libs/jquery/3.3.1/jquery.min.js\"></script>\n",
       "\n",
       "    <script src=\"https://maxcdn.bootstrapcdn.com/bootstrap/3.3.7/js/bootstrap.min.js\"></script>\n",
       "\n",
       "\n",
       "</head>\n",
       "\n",
       "<body>\n",
       "\n",
       "    <div class=\"container\">\n",
       "      <div class=\"jumbotron\">\n",
       "        <p class=\"lead\"></p>\n",
       "\t\t<div class=\"row\">\n",
       "\t\t\t<div class=\"col-xs-12 col-sm-12 col-md-12\">\n",
       "\t\t\t\t<h3 style=\"color:red\">Sorry, this site only worked in 2018.</h3>\n",
       "\t\t\t</div>\n",
       "\t\t</div>\n",
       "\t\t<br/>\n",
       "\t\t\n",
       "\t\t\t<img src=\"/static/who_r_u.gif\"></img>\n",
       "\t\t\n",
       "\t</div>\n",
       "    <footer class=\"footer\">\n",
       "        <p>&copy; PicoCTF</p>\n",
       "    </footer>\n",
       "\n",
       "</div>\n",
       "<script>\n",
       "$(document).ready(function(){\n",
       "    $(\".close\").click(function(){\n",
       "        $(\"myAlert\").alert(\"close\");\n",
       "    });\n",
       "});\n",
       "</script>\n",
       "</body>\n",
       "\n",
       "</html>"
      ],
      "text/plain": [
       "<IPython.core.display.HTML object>"
      ]
     },
     "execution_count": 5,
     "metadata": {},
     "output_type": "execute_result"
    }
   ],
   "source": [
    "headers = {\n",
    "    \"User-Agent\":\"picobrowser\",\n",
    "    \"Referer\":\"http://mercury.picoctf.net:39114/\"\n",
    "}\n",
    "page = requests.get(url, headers=headers)\n",
    "HTML(page.text)"
   ]
  },
  {
   "cell_type": "code",
   "execution_count": 6,
   "id": "dependent-coating",
   "metadata": {},
   "outputs": [
    {
     "data": {
      "text/html": [
       "<!DOCTYPE html>\n",
       "<html lang=\"en\">\n",
       "\n",
       "<head>\n",
       "    <title>Who are you?</title>\n",
       "\n",
       "\n",
       "    <link href=\"https://maxcdn.bootstrapcdn.com/bootstrap/3.2.0/css/bootstrap.min.css\" rel=\"stylesheet\">\n",
       "\n",
       "    <link href=\"https://getbootstrap.com/docs/3.3/examples/jumbotron-narrow/jumbotron-narrow.css\" rel=\"stylesheet\">\n",
       "\n",
       "    <script src=\"https://ajax.googleapis.com/ajax/libs/jquery/3.3.1/jquery.min.js\"></script>\n",
       "\n",
       "    <script src=\"https://maxcdn.bootstrapcdn.com/bootstrap/3.3.7/js/bootstrap.min.js\"></script>\n",
       "\n",
       "\n",
       "</head>\n",
       "\n",
       "<body>\n",
       "\n",
       "    <div class=\"container\">\n",
       "      <div class=\"jumbotron\">\n",
       "        <p class=\"lead\"></p>\n",
       "\t\t<div class=\"row\">\n",
       "\t\t\t<div class=\"col-xs-12 col-sm-12 col-md-12\">\n",
       "\t\t\t\t<h3 style=\"color:red\">I don&#39;t trust users who can be tracked.</h3>\n",
       "\t\t\t</div>\n",
       "\t\t</div>\n",
       "\t\t<br/>\n",
       "\t\t\n",
       "\t\t\t<img src=\"/static/who_r_u.gif\"></img>\n",
       "\t\t\n",
       "\t</div>\n",
       "    <footer class=\"footer\">\n",
       "        <p>&copy; PicoCTF</p>\n",
       "    </footer>\n",
       "\n",
       "</div>\n",
       "<script>\n",
       "$(document).ready(function(){\n",
       "    $(\".close\").click(function(){\n",
       "        $(\"myAlert\").alert(\"close\");\n",
       "    });\n",
       "});\n",
       "</script>\n",
       "</body>\n",
       "\n",
       "</html>"
      ],
      "text/plain": [
       "<IPython.core.display.HTML object>"
      ]
     },
     "execution_count": 6,
     "metadata": {},
     "output_type": "execute_result"
    }
   ],
   "source": [
    "headers = {\n",
    "    \"User-Agent\":\"picobrowser\",\n",
    "    \"Referer\":\"http://mercury.picoctf.net:39114/\",\n",
    "    \"Date\":\"Wed, 7 Feb 2018 13:00:00 +1:00\"\n",
    "}\n",
    "page = requests.get(url, headers=headers)\n",
    "HTML(page.text)"
   ]
  },
  {
   "cell_type": "code",
   "execution_count": 7,
   "id": "split-quick",
   "metadata": {},
   "outputs": [
    {
     "data": {
      "text/html": [
       "<!DOCTYPE html>\n",
       "<html lang=\"en\">\n",
       "\n",
       "<head>\n",
       "    <title>Who are you?</title>\n",
       "\n",
       "\n",
       "    <link href=\"https://maxcdn.bootstrapcdn.com/bootstrap/3.2.0/css/bootstrap.min.css\" rel=\"stylesheet\">\n",
       "\n",
       "    <link href=\"https://getbootstrap.com/docs/3.3/examples/jumbotron-narrow/jumbotron-narrow.css\" rel=\"stylesheet\">\n",
       "\n",
       "    <script src=\"https://ajax.googleapis.com/ajax/libs/jquery/3.3.1/jquery.min.js\"></script>\n",
       "\n",
       "    <script src=\"https://maxcdn.bootstrapcdn.com/bootstrap/3.3.7/js/bootstrap.min.js\"></script>\n",
       "\n",
       "\n",
       "</head>\n",
       "\n",
       "<body>\n",
       "\n",
       "    <div class=\"container\">\n",
       "      <div class=\"jumbotron\">\n",
       "        <p class=\"lead\"></p>\n",
       "\t\t<div class=\"row\">\n",
       "\t\t\t<div class=\"col-xs-12 col-sm-12 col-md-12\">\n",
       "\t\t\t\t<h3 style=\"color:red\">This website is only for people from Sweden.</h3>\n",
       "\t\t\t</div>\n",
       "\t\t</div>\n",
       "\t\t<br/>\n",
       "\t\t\n",
       "\t\t\t<img src=\"/static/who_r_u.gif\"></img>\n",
       "\t\t\n",
       "\t</div>\n",
       "    <footer class=\"footer\">\n",
       "        <p>&copy; PicoCTF</p>\n",
       "    </footer>\n",
       "\n",
       "</div>\n",
       "<script>\n",
       "$(document).ready(function(){\n",
       "    $(\".close\").click(function(){\n",
       "        $(\"myAlert\").alert(\"close\");\n",
       "    });\n",
       "});\n",
       "</script>\n",
       "</body>\n",
       "\n",
       "</html>"
      ],
      "text/plain": [
       "<IPython.core.display.HTML object>"
      ]
     },
     "execution_count": 7,
     "metadata": {},
     "output_type": "execute_result"
    }
   ],
   "source": [
    "headers = {\n",
    "    \"User-Agent\":\"picobrowser\",\n",
    "    \"Referer\":\"http://mercury.picoctf.net:39114/\",\n",
    "    \"Date\":\"Wed, 7 Feb 2018 13:00:00 +1:00\",\n",
    "    \"DNT\":\"1\"\n",
    "}\n",
    "page = requests.get(url, headers=headers)\n",
    "HTML(page.text)"
   ]
  },
  {
   "cell_type": "code",
   "execution_count": 8,
   "id": "intermediate-darkness",
   "metadata": {},
   "outputs": [
    {
     "data": {
      "text/html": [
       "<!DOCTYPE html>\n",
       "<html lang=\"en\">\n",
       "\n",
       "<head>\n",
       "    <title>Who are you?</title>\n",
       "\n",
       "\n",
       "    <link href=\"https://maxcdn.bootstrapcdn.com/bootstrap/3.2.0/css/bootstrap.min.css\" rel=\"stylesheet\">\n",
       "\n",
       "    <link href=\"https://getbootstrap.com/docs/3.3/examples/jumbotron-narrow/jumbotron-narrow.css\" rel=\"stylesheet\">\n",
       "\n",
       "    <script src=\"https://ajax.googleapis.com/ajax/libs/jquery/3.3.1/jquery.min.js\"></script>\n",
       "\n",
       "    <script src=\"https://maxcdn.bootstrapcdn.com/bootstrap/3.3.7/js/bootstrap.min.js\"></script>\n",
       "\n",
       "\n",
       "</head>\n",
       "\n",
       "<body>\n",
       "\n",
       "    <div class=\"container\">\n",
       "      <div class=\"jumbotron\">\n",
       "        <p class=\"lead\"></p>\n",
       "\t\t<div class=\"row\">\n",
       "\t\t\t<div class=\"col-xs-12 col-sm-12 col-md-12\">\n",
       "\t\t\t\t<h3 style=\"color:red\">You&#39;re in Sweden but you don&#39;t speak Swedish?</h3>\n",
       "\t\t\t</div>\n",
       "\t\t</div>\n",
       "\t\t<br/>\n",
       "\t\t\n",
       "\t\t\t<img src=\"/static/who_r_u.gif\"></img>\n",
       "\t\t\n",
       "\t</div>\n",
       "    <footer class=\"footer\">\n",
       "        <p>&copy; PicoCTF</p>\n",
       "    </footer>\n",
       "\n",
       "</div>\n",
       "<script>\n",
       "$(document).ready(function(){\n",
       "    $(\".close\").click(function(){\n",
       "        $(\"myAlert\").alert(\"close\");\n",
       "    });\n",
       "});\n",
       "</script>\n",
       "</body>\n",
       "\n",
       "</html>"
      ],
      "text/plain": [
       "<IPython.core.display.HTML object>"
      ]
     },
     "execution_count": 8,
     "metadata": {},
     "output_type": "execute_result"
    }
   ],
   "source": [
    "headers = {\n",
    "    \"User-Agent\":\"picobrowser\",\n",
    "    \"Referer\":\"http://mercury.picoctf.net:39114/\",\n",
    "    \"Date\":\"Wed, 7 Feb 2018 13:00:00 +1:00\",\n",
    "    \"DNT\":\"1\",\n",
    "    \"X-Forwarded-For\":\"83.168.252.201\"\n",
    "}\n",
    "page = requests.get(url, headers=headers)\n",
    "HTML(page.text)"
   ]
  },
  {
   "cell_type": "code",
   "execution_count": 9,
   "id": "reserved-afghanistan",
   "metadata": {},
   "outputs": [
    {
     "data": {
      "text/html": [
       "<!DOCTYPE html>\n",
       "<html lang=\"en\">\n",
       "\n",
       "<head>\n",
       "    <title>Who are you?</title>\n",
       "\n",
       "\n",
       "    <link href=\"https://maxcdn.bootstrapcdn.com/bootstrap/3.2.0/css/bootstrap.min.css\" rel=\"stylesheet\">\n",
       "\n",
       "    <link href=\"https://getbootstrap.com/docs/3.3/examples/jumbotron-narrow/jumbotron-narrow.css\" rel=\"stylesheet\">\n",
       "\n",
       "    <script src=\"https://ajax.googleapis.com/ajax/libs/jquery/3.3.1/jquery.min.js\"></script>\n",
       "\n",
       "    <script src=\"https://maxcdn.bootstrapcdn.com/bootstrap/3.3.7/js/bootstrap.min.js\"></script>\n",
       "\n",
       "\n",
       "</head>\n",
       "\n",
       "<body>\n",
       "\n",
       "    <div class=\"container\">\n",
       "      <div class=\"jumbotron\">\n",
       "        <p class=\"lead\"></p>\n",
       "\t\t<div class=\"row\">\n",
       "\t\t\t<div class=\"col-xs-12 col-sm-12 col-md-12\">\n",
       "\t\t\t\t<h3 style=\"color:green\">What can I say except, you are welcome</h3>\n",
       "\t\t\t</div>\n",
       "\t\t</div>\n",
       "\t\t<br/>\n",
       "\t\t\n",
       "\t\t\t<b>picoCTF{http_h34d3rs_v3ry_c0Ol_much_w0w_20ace0e4}</b>\n",
       "\t\t\n",
       "\t</div>\n",
       "    <footer class=\"footer\">\n",
       "        <p>&copy; PicoCTF</p>\n",
       "    </footer>\n",
       "\n",
       "</div>\n",
       "<script>\n",
       "$(document).ready(function(){\n",
       "    $(\".close\").click(function(){\n",
       "        $(\"myAlert\").alert(\"close\");\n",
       "    });\n",
       "});\n",
       "</script>\n",
       "</body>\n",
       "\n",
       "</html>"
      ],
      "text/plain": [
       "<IPython.core.display.HTML object>"
      ]
     },
     "execution_count": 9,
     "metadata": {},
     "output_type": "execute_result"
    }
   ],
   "source": [
    "headers = {\n",
    "    \"User-Agent\":\"picobrowser\",\n",
    "    \"Referer\":\"http://mercury.picoctf.net:39114/\",\n",
    "    \"Date\":\"Wed, 7 Feb 2018 13:00:00 +1:00\",\n",
    "    \"DNT\":\"1\",\n",
    "    \"X-Forwarded-For\":\"83.168.252.201\",\n",
    "    \"Accept-Language\":\"se-sv\"\n",
    "}\n",
    "page = requests.get(url, headers=headers)\n",
    "HTML(page.text)"
   ]
  },
  {
   "cell_type": "code",
   "execution_count": null,
   "id": "saving-volume",
   "metadata": {},
   "outputs": [],
   "source": []
  }
 ],
 "metadata": {
  "kernelspec": {
   "display_name": "Python 3",
   "language": "python",
   "name": "python3"
  },
  "language_info": {
   "codemirror_mode": {
    "name": "ipython",
    "version": 3
   },
   "file_extension": ".py",
   "mimetype": "text/x-python",
   "name": "python",
   "nbconvert_exporter": "python",
   "pygments_lexer": "ipython3",
   "version": "3.8.1"
  }
 },
 "nbformat": 4,
 "nbformat_minor": 5
}
